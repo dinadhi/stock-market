{
 "cells": [
  {
   "cell_type": "code",
   "execution_count": 181,
   "metadata": {
    "collapsed": true
   },
   "outputs": [],
   "source": [
    "import os\n",
    "import time\n",
    "import warnings\n",
    "import numpy as np\n",
    "from numpy import newaxis\n",
    "from keras.layers.core import Dense, Activation, Dropout\n",
    "from keras.layers.recurrent import LSTM\n",
    "from keras.models import Sequential\n",
    "import time\n",
    "import matplotlib.pyplot as plt"
   ]
  },
  {
   "cell_type": "code",
   "execution_count": 182,
   "metadata": {
    "collapsed": true
   },
   "outputs": [],
   "source": [
    "os.environ['TF_CPP_MIN_LOG_LEVEL'] = '3'\n",
    "warnings.filterwarnings(\"ignore\")"
   ]
  },
  {
   "cell_type": "code",
   "execution_count": 183,
   "metadata": {
    "collapsed": true
   },
   "outputs": [],
   "source": [
    "def load(filename, seq_len, window):\n",
    "    f = open(filename, 'rb').read()\n",
    "    data = f.decode().split('\\n')\n",
    "    sequence_length = seq_len + 1\n",
    "    result = []\n",
    "    for index in range(len(data) - sequence_length):\n",
    "        result.append(data[index: index + sequence_length])\n",
    "    \n",
    "    if window:\n",
    "        result = windows(result)\n",
    "\n",
    "    result = np.array(result)\n",
    "\n",
    "    row = round(0.9 * result.shape[0])\n",
    "    train = result[:int(row), :]\n",
    "    np.random.shuffle(train)\n",
    "    x_train = train[:, :-1]\n",
    "    y_train = train[:, -1]\n",
    "    x_test = result[int(row):, :-1]\n",
    "    y_test = result[int(row):, -1]\n",
    "\n",
    "    x_train = np.reshape(x_train, (x_train.shape[0], x_train.shape[1], 1))\n",
    "    x_test = np.reshape(x_test, (x_test.shape[0], x_test.shape[1], 1))\n",
    "    return [x_train, y_train, x_test, y_test]"
   ]
  },
  {
   "cell_type": "code",
   "execution_count": 184,
   "metadata": {
    "collapsed": true
   },
   "outputs": [],
   "source": [
    "def windows(window_data):\n",
    "    normalised_data = []\n",
    "    for window in window_data:\n",
    "        normalised_window = [((float(p) / float(window[0])) - 1) for p in window]\n",
    "        normalised_data.append(normalised_window)\n",
    "    return normalised_data"
   ]
  },
  {
   "cell_type": "code",
   "execution_count": 185,
   "metadata": {
    "collapsed": true
   },
   "outputs": [],
   "source": [
    "def build_model_data(layers):\n",
    "    model = Sequential()\n",
    "\n",
    "    model.add(LSTM(\n",
    "        input_shape=(layers[1], layers[0]),\n",
    "        output_dim=layers[1],\n",
    "        return_sequences=True))\n",
    "    model.add(Dropout(0.2))\n",
    "\n",
    "    model.add(LSTM(\n",
    "        layers[2],\n",
    "        return_sequences=False))\n",
    "    model.add(Dropout(0.2))\n",
    "\n",
    "    model.add(Dense(\n",
    "        output_dim=layers[3]))\n",
    "    model.add(Activation(\"linear\"))\n",
    "\n",
    "    start = time.time()\n",
    "    model.compile(loss=\"mse\", optimizer=\"rmsprop\")\n",
    "    print(\"> Compilation Time : \", time.time() - start)\n",
    "    return model"
   ]
  },
  {
   "cell_type": "code",
   "execution_count": 186,
   "metadata": {
    "collapsed": true
   },
   "outputs": [],
   "source": [
    "def predict_sequencesMultiple(model, data, window_size, prediction_len):\n",
    "    #Predict sequence of 50 steps before shifting prediction run forward by 50 steps\n",
    "    prediction_seqs = []\n",
    "    for i in range(int(len(data)/prediction_len)):\n",
    "        curr_frame = data[i*prediction_len]\n",
    "        predicted = []\n",
    "        for j in range(prediction_len):\n",
    "            predicted.append(model.predict(curr_frame[newaxis,:,:])[0,0])\n",
    "            curr_frame = curr_frame[1:]\n",
    "            curr_frame = np.insert(curr_frame, [window_size-1], predicted[-1], axis=0)\n",
    "        prediction_seqs.append(predicted)\n",
    "    return prediction_seqs\n",
    "\n",
    "def predictPointByPoint(model, data):\n",
    "    #Predict each timestep given the last sequence of true data, in effect only predicting 1 step ahead each time\n",
    "    predicted = model.predict(data)\n",
    "    predicted = np.reshape(predicted, (predicted.size,))\n",
    "    return predicted"
   ]
  },
  {
   "cell_type": "code",
   "execution_count": 187,
   "metadata": {
    "collapsed": true
   },
   "outputs": [],
   "source": [
    "def plot_results(predicted_data, true_data):\n",
    "    fig = plt.figure(facecolor='white')\n",
    "    ax = fig.add_subplot(111)\n",
    "    ax.plot(true_data, label='True Data')\n",
    "    plt.plot(predicted_data, label='Prediction')\n",
    "    plt.legend()\n",
    "    plt.show()\n",
    "\n",
    "def plot_resultsMultiple(predicted_data, true_data, prediction_len):\n",
    "    fig = plt.figure(facecolor='white')\n",
    "    ax = fig.add_subplot(111)\n",
    "    ax.plot(true_data, label='True Data')\n",
    "    #Pad the list of predictions to shift it in the graph to it's correct start\n",
    "    for i, data in enumerate(predicted_data):\n",
    "        padding = [None for p in range(i * prediction_len)]\n",
    "        plt.plot(padding + data, label='Prediction')\n",
    "        plt.legend()\n",
    "    plt.show()"
   ]
  },
  {
   "cell_type": "code",
   "execution_count": 188,
   "metadata": {},
   "outputs": [
    {
     "name": "stdout",
     "output_type": "stream",
     "text": [
      "> Loading data... \n",
      "> X_train ......\n",
      "[[[ 0.        ]\n",
      "  [ 0.00884493]\n",
      "  [ 0.01669615]\n",
      "  ..., \n",
      "  [ 0.08078511]\n",
      "  [ 0.06969693]\n",
      "  [ 0.07583624]]\n",
      "\n",
      " [[ 0.        ]\n",
      "  [ 0.00326981]\n",
      "  [ 0.00472427]\n",
      "  ..., \n",
      "  [ 0.01516503]\n",
      "  [ 0.01108344]\n",
      "  [ 0.03071343]]\n",
      "\n",
      " [[ 0.        ]\n",
      "  [-0.00327287]\n",
      "  [ 0.00411666]\n",
      "  ..., \n",
      "  [-0.10466478]\n",
      "  [-0.09483752]\n",
      "  [-0.1002157 ]]\n",
      "\n",
      " ..., \n",
      " [[ 0.        ]\n",
      "  [-0.00478899]\n",
      "  [-0.00523174]\n",
      "  ..., \n",
      "  [ 0.02043039]\n",
      "  [ 0.00620781]\n",
      "  [ 0.00150904]]\n",
      "\n",
      " [[ 0.        ]\n",
      "  [ 0.01003483]\n",
      "  [ 0.01765671]\n",
      "  ..., \n",
      "  [-0.01216279]\n",
      "  [-0.01220736]\n",
      "  [-0.01175324]]\n",
      "\n",
      " [[ 0.        ]\n",
      "  [-0.02069113]\n",
      "  [-0.0127448 ]\n",
      "  ..., \n",
      "  [ 0.05861936]\n",
      "  [ 0.06950939]\n",
      "  [ 0.070692  ]]]\n"
     ]
    }
   ],
   "source": [
    "global_start_time = time.time()\n",
    "epochs  = 1\n",
    "seq_len = 50\n",
    "print('> Loading data... ')\n",
    "X_train, y_train, X_test, y_test = load('stock_price.csv', seq_len, True)\n",
    "print('> X_train ......')\n",
    "print(X_train)"
   ]
  },
  {
   "cell_type": "code",
   "execution_count": 189,
   "metadata": {},
   "outputs": [
    {
     "name": "stdout",
     "output_type": "stream",
     "text": [
      "> y_train ......\n",
      "[ 0.09140105  0.05282389 -0.07366595 ...,  0.00309034 -0.01456694\n",
      "  0.07285304]\n"
     ]
    }
   ],
   "source": [
    "print('> y_train ......')\n",
    "print(y_train)"
   ]
  },
  {
   "cell_type": "code",
   "execution_count": 190,
   "metadata": {},
   "outputs": [
    {
     "name": "stdout",
     "output_type": "stream",
     "text": [
      "> X_test ......\n",
      "[[[  0.00000000e+00]\n",
      "  [  5.14346191e-06]\n",
      "  [  1.11707103e-02]\n",
      "  ..., \n",
      "  [  5.86539766e-02]\n",
      "  [  5.84022033e-02]\n",
      "  [  4.10963023e-02]]\n",
      "\n",
      " [[  0.00000000e+00]\n",
      "  [  1.11655094e-02]\n",
      "  [  9.58287384e-03]\n",
      "  ..., \n",
      "  [  5.83967595e-02]\n",
      "  [  4.10909474e-02]\n",
      "  [  4.58130122e-02]]\n",
      "\n",
      " [[  0.00000000e+00]\n",
      "  [ -1.56515980e-03]\n",
      "  [ -1.66675378e-02]\n",
      "  ..., \n",
      "  [  2.95949948e-02]\n",
      "  [  3.42649175e-02]\n",
      "  [  1.74957729e-02]]\n",
      "\n",
      " ..., \n",
      " [[  0.00000000e+00]\n",
      "  [  2.05178759e-04]\n",
      "  [ -3.50228952e-03]\n",
      "  ..., \n",
      "  [  5.92367277e-02]\n",
      "  [  5.95786330e-02]\n",
      "  [  5.83086832e-02]]\n",
      "\n",
      " [[  0.00000000e+00]\n",
      "  [ -3.70670775e-03]\n",
      "  [  2.29048363e-03]\n",
      "  ..., \n",
      "  [  5.93612746e-02]\n",
      "  [  5.80915853e-02]\n",
      "  [  5.97911018e-02]]\n",
      "\n",
      " [[  0.00000000e+00]\n",
      "  [  6.01950391e-03]\n",
      "  [  3.92149166e-03]\n",
      "  ..., \n",
      "  [  6.20282135e-02]\n",
      "  [  6.37340530e-02]\n",
      "  [  6.54693322e-02]]]\n"
     ]
    }
   ],
   "source": [
    "print('> X_test ......')\n",
    "print(X_test)"
   ]
  },
  {
   "cell_type": "code",
   "execution_count": 191,
   "metadata": {},
   "outputs": [
    {
     "name": "stdout",
     "output_type": "stream",
     "text": [
      "> y_test ......\n",
      "[ 0.04581839  0.02885663  0.01104222  0.00403093  0.04019949  0.0468995\n",
      "  0.07387159  0.0904503   0.11064464  0.10873938  0.12149329  0.12229705\n",
      "  0.10260451  0.08134931  0.06022826  0.04850267  0.02654783  0.03121281\n",
      "  0.05123794  0.03010504  0.02318517  0.01422806 -0.00335969 -0.01245906\n",
      "  0.00363802 -0.00050401  0.00044803  0.01536963  0.00665276  0.00853567\n",
      " -0.00426834 -0.01822654 -0.00910372 -0.02269608 -0.01508435  0.00063945\n",
      " -0.00547558 -0.00047491 -0.00673619 -0.00981603 -0.00204551  0.00046914\n",
      "  0.01706407  0.01472983  0.01253899  0.01339821  0.01063899  0.02426333\n",
      "  0.02419621  0.04409368  0.0385835   0.05414194  0.05773435  0.07332436\n",
      "  0.04714118  0.01809602  0.01467662 -0.00350247 -0.00131593 -0.01811817\n",
      " -0.02323378 -0.01177675 -0.01295464  0.01082619  0.00781269  0.03905811\n",
      "  0.04327355  0.0405746   0.02050299  0.02283339  0.01616659  0.01637142\n",
      "  0.02473561  0.04695707  0.02400187  0.0183629   0.01714464  0.00846774\n",
      "  0.0119455   0.01206064  0.03036628  0.04989612  0.0352158   0.05055168\n",
      "  0.04244744  0.02680934  0.01943166  0.01836583  0.02034575  0.02991097\n",
      "  0.02143481  0.02376563  0.00978699  0.00847406  0.0030995  -0.00674861\n",
      "  0.00516822  0.00198547 -0.00957498 -0.01670074 -0.01223359  0.00253944\n",
      "  0.00039443 -0.00862844 -0.00441225  0.01075518  0.01032343  0.02797328\n",
      "  0.02327568  0.03996266  0.04439678  0.02909563  0.02473948  0.02032012\n",
      "  0.02242224  0.00375799  0.01075015  0.00071154  0.00458566  0.00207511\n",
      "  0.01541934  0.01124924  0.00928175  0.0090881   0.01981257  0.01671133\n",
      "  0.00845201  0.00753137  0.01161177  0.01889624  0.00899495  0.00989032\n",
      "  0.01518331  0.0060787  -0.00205059 -0.00166272 -0.01131091 -0.01775366\n",
      " -0.00947419 -0.01479152 -0.02090458 -0.01716486 -0.02951267 -0.03000338\n",
      " -0.01434843  0.00675618  0.00031301 -0.0033531   0.01666942  0.02234935\n",
      "  0.0192912   0.00146962  0.00418928  0.00144336 -0.0089732  -0.025204\n",
      " -0.01388777 -0.00968903 -0.00902337 -0.01035351 -0.01538376 -0.01539937\n",
      " -0.00207198 -0.01879929 -0.02037918 -0.00152319 -0.01309822 -0.01116328\n",
      " -0.01451237 -0.00205171  0.0045918   0.00848365 -0.0002595  -0.03299923\n",
      " -0.06542401 -0.09593581 -0.10401882 -0.07431225 -0.05369347 -0.06240218\n",
      " -0.06531308 -0.0984526  -0.082544   -0.07467114 -0.08613862 -0.06285062\n",
      " -0.0561808  -0.05371505 -0.05601654 -0.05958744 -0.04382821 -0.04133396\n",
      " -0.02759596 -0.04547339 -0.05280222 -0.07470952 -0.0806989  -0.0831166\n",
      " -0.09083038 -0.11514402 -0.11473587 -0.09398782 -0.09002671 -0.07173129\n",
      " -0.04452665 -0.04242511 -0.04654009 -0.04512063 -0.04445534 -0.04105831\n",
      " -0.04497059 -0.04733155 -0.03618376 -0.0242134  -0.02113528 -0.03488766\n",
      " -0.03125141 -0.01607825 -0.00395509 -0.00973451 -0.01738459 -0.00313308\n",
      "  0.00471233  0.02143218  0.0675634   0.11439834  0.12566868  0.08215362\n",
      "  0.05611619  0.04510606  0.05554255  0.08420201  0.04982912  0.03685558\n",
      "  0.06869071  0.04114425  0.07288214  0.06605061  0.06533228  0.06838608\n",
      "  0.05613998  0.04688998  0.05020106  0.06250154  0.06896898  0.07040058\n",
      "  0.05718093  0.08252078  0.07545544  0.09662183  0.08679523  0.06885306\n",
      "  0.04602824  0.03616962  0.02836365  0.04704737  0.02307815 -0.00391372\n",
      "  0.00310687  0.01066193  0.03024425  0.0334714   0.01612761  0.0222566\n",
      "  0.01460425  0.00648519 -0.0031105  -0.01744208 -0.04090784 -0.06184396\n",
      " -0.06963578 -0.07973787 -0.07213992 -0.09093186 -0.08659969 -0.10875968\n",
      " -0.10511299 -0.11457524 -0.10966557 -0.08259487 -0.09830333 -0.08258795\n",
      " -0.0796786  -0.06410158 -0.05501193 -0.05416395 -0.08665376 -0.08106223\n",
      " -0.08315263 -0.09898448 -0.11282153 -0.11329577 -0.11398927 -0.1208079\n",
      " -0.11312017 -0.08844875 -0.05991362 -0.08311939 -0.07668978 -0.05722555\n",
      " -0.06170577 -0.05965702 -0.03014855 -0.03654406 -0.05440908 -0.04569073\n",
      " -0.02715135 -0.0060582  -0.0104693  -0.01824939 -0.04119093 -0.03480365\n",
      " -0.03254561 -0.0270262  -0.02118878 -0.01370387  0.00723418  0.01184107\n",
      "  0.02980519  0.05584411  0.0664766   0.05876263  0.0501681   0.07764459\n",
      "  0.06929299  0.09765307  0.09483187  0.11479946  0.10547937  0.07251037\n",
      "  0.10099727  0.07264018  0.08744259  0.07850066  0.0626108   0.07375549\n",
      "  0.09445463  0.08794631  0.09339327  0.11741709  0.13432319  0.12918083\n",
      "  0.12944828  0.14144274  0.12168723  0.10528173  0.07732436  0.07689425\n",
      "  0.08533299  0.06058603  0.06758555  0.06261262  0.05402467  0.0567952\n",
      "  0.07874834  0.04352616  0.03909495  0.02669307  0.03333513  0.02270499\n",
      "  0.03454321  0.02552709  0.03153954  0.01278322  0.02793569  0.03701021\n",
      "  0.03101791  0.02865352  0.02311199  0.02326476  0.02705628  0.03064743\n",
      "  0.03608651  0.03685714  0.03119698  0.0249667   0.01763819  0.00302976\n",
      "  0.00444802  0.01287421  0.00548231  0.01435418  0.01741064  0.02297265\n",
      "  0.0115098   0.01483858 -0.02178338 -0.03853933 -0.02781312 -0.01429457\n",
      " -0.00168369  0.00548414 -0.00144868  0.00571894  0.00296407  0.01658593\n",
      "  0.02955466  0.04204708  0.03411117  0.04864851  0.05393145  0.05669478\n",
      "  0.05183903  0.05553536  0.03875476  0.05355883  0.0505641   0.05988925\n",
      "  0.04834863  0.06000855  0.06151995  0.06411641]\n"
     ]
    }
   ],
   "source": [
    "print('> y_test ......')\n",
    "print(y_test)"
   ]
  },
  {
   "cell_type": "code",
   "execution_count": 192,
   "metadata": {},
   "outputs": [
    {
     "name": "stdout",
     "output_type": "stream",
     "text": [
      "> Data Loaded. Compiling...\n",
      "('> Compilation Time : ', 0.026710033416748047)\n"
     ]
    }
   ],
   "source": [
    "print('> Data Loaded. Compiling...')\n",
    "model = build_model_data([1, 50, 100, 1])"
   ]
  },
  {
   "cell_type": "code",
   "execution_count": 193,
   "metadata": {},
   "outputs": [
    {
     "name": "stdout",
     "output_type": "stream",
     "text": [
      "Train on 3523 samples, validate on 186 samples\n",
      "Epoch 1/1\n",
      "3523/3523 [==============================] - 13s 4ms/step - loss: 0.0026 - val_loss: 7.2593e-04\n"
     ]
    },
    {
     "data": {
      "text/plain": [
       "<keras.callbacks.History at 0x7f826b155c10>"
      ]
     },
     "execution_count": 193,
     "metadata": {},
     "output_type": "execute_result"
    }
   ],
   "source": [
    "model.fit(X_train,y_train,batch_size=512,nb_epoch=epochs,validation_split=0.05)"
   ]
  },
  {
   "cell_type": "code",
   "execution_count": 194,
   "metadata": {},
   "outputs": [
    {
     "name": "stdout",
     "output_type": "stream",
     "text": [
      "('Training duration (s) for sequences multiple: ', 24.426142930984497)\n"
     ]
    },
    {
     "data": {
      "image/png": "[encoded data removed]",
      "text/plain": [
       "<matplotlib.figure.Figure at 0x7f826a4c7190>"
      ]
     },
     "metadata": {},
     "output_type": "display_data"
    }
   ],
   "source": [
    "predictions = predict_sequencesMultiple(model, X_test, seq_len, 50)\n",
    "print('Training duration (s) for sequences multiple: ', time.time() - global_start_time)\n",
    "plot_resultsMultiple(predictions, y_test, 50)"
   ]
  },
  {
   "cell_type": "code",
   "execution_count": 195,
   "metadata": {},
   "outputs": [
    {
     "name": "stdout",
     "output_type": "stream",
     "text": [
      "('Training duration (s) for Point by point : ', 25.343677043914795)\n"
     ]
    },
    {
     "data": {
      "image/png": "[encoded data removed]",
      "text/plain": [
       "<matplotlib.figure.Figure at 0x7f826a3a7f10>"
      ]
     },
     "metadata": {},
     "output_type": "display_data"
    }
   ],
   "source": [
    "predictedPointByPoint = predictPointByPoint(model, X_test)\n",
    "print('Training duration (s) for Point by point : ', time.time() - global_start_time)\n",
    "plot_results(predictedPointByPoint, y_test)"
   ]
  }
 ],
 "metadata": {
  "kernelspec": {
   "display_name": "Python 2",
   "language": "python",
   "name": "python2"
  },
  "language_info": {
   "codemirror_mode": {
    "name": "ipython",
    "version": 2
   },
   "file_extension": ".py",
   "mimetype": "text/x-python",
   "name": "python",
   "nbconvert_exporter": "python",
   "pygments_lexer": "ipython2",
   "version": "2.7.14"
  }
 },
 "nbformat": 4,
 "nbformat_minor": 2
}
